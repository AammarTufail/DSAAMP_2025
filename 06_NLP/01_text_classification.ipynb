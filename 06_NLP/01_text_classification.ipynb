{
 "cells": [
  {
   "cell_type": "markdown",
   "id": "c0edd52c",
   "metadata": {},
   "source": [
    "# Test classfication using HuggingFace's transformers library"
   ]
  },
  {
   "cell_type": "code",
   "execution_count": 1,
   "id": "c85e2ae6",
   "metadata": {},
   "outputs": [],
   "source": [
    "# import libraries\n",
    "from transformers import pipeline"
   ]
  },
  {
   "cell_type": "code",
   "execution_count": 3,
   "id": "dde0889d",
   "metadata": {},
   "outputs": [
    {
     "data": {
      "application/vnd.jupyter.widget-view+json": {
       "model_id": "ccc33c4e1c0847dab4a6a6f144f83bd1",
       "version_major": 2,
       "version_minor": 0
      },
      "text/plain": [
       "VBox(children=(HTML(value='<center> <img\\nsrc=https://huggingface.co/front/assets/huggingface_logo-noborder.sv…"
      ]
     },
     "metadata": {},
     "output_type": "display_data"
    }
   ],
   "source": [
    "from huggingface_hub import notebook_login\n",
    "notebook_login()"
   ]
  },
  {
   "cell_type": "code",
   "execution_count": 7,
   "id": "467f5526",
   "metadata": {},
   "outputs": [
    {
     "name": "stderr",
     "output_type": "stream",
     "text": [
      "Device set to use cpu\n"
     ]
    },
    {
     "name": "stdout",
     "output_type": "stream",
     "text": [
      "[{'label': 'POSITIVE', 'score': 0.9998785257339478}, {'label': 'NEGATIVE', 'score': 0.9997866749763489}]\n"
     ]
    }
   ],
   "source": [
    "from transformers import pipeline\n",
    "\n",
    "# one-liner sentiment analysis on the SST-2-finetuned DistilBERT\n",
    "classifier = pipeline(\n",
    "    task=\"text-classification\",\n",
    "    model=\"distilbert-base-uncased-finetuned-sst-2-english\"\n",
    ")\n",
    "\n",
    "texts = [\n",
    "    \"I absolutely loved this movie!\",\n",
    "    \"This was a waste of two hours.\"\n",
    "]\n",
    "print(classifier(texts))"
   ]
  },
  {
   "cell_type": "code",
   "execution_count": 9,
   "id": "66af6765",
   "metadata": {},
   "outputs": [
    {
     "name": "stderr",
     "output_type": "stream",
     "text": [
      "Device set to use cpu\n"
     ]
    },
    {
     "name": "stdout",
     "output_type": "stream",
     "text": [
      "[{'label': 'NEGATIVE', 'score': 0.9268054366111755}, {'label': 'POSITIVE', 'score': 0.9997041821479797}]\n"
     ]
    }
   ],
   "source": [
    "from transformers import pipeline\n",
    "# one-liner sentiment analysis on the SST-2-finetuned DistilBERT\n",
    "classifier = pipeline(\n",
    "    task=\"text-classification\",\n",
    "    model=\"distilbert-base-uncased-finetuned-sst-2-english\"\n",
    ")\n",
    "texts = [\n",
    "    \"I do not like to swim.\",\n",
    "    \"I love to swim.\"\n",
    "]\n",
    "print(classifier(texts))"
   ]
  },
  {
   "cell_type": "code",
   "execution_count": 10,
   "id": "e5c60115",
   "metadata": {},
   "outputs": [
    {
     "name": "stderr",
     "output_type": "stream",
     "text": [
      "Device set to use cpu\n"
     ]
    },
    {
     "name": "stdout",
     "output_type": "stream",
     "text": [
      "[{'label': 'NEGATIVE', 'score': 0.9997660517692566}]\n"
     ]
    }
   ],
   "source": [
    "from transformers import pipeline\n",
    "# one-liner sentiment analysis on the SST-2-finetuned DistilBERT\n",
    "classifier = pipeline(\n",
    "    task=\"text-classification\",\n",
    "    model=\"distilbert-base-uncased-finetuned-sst-2-english\"\n",
    ")\n",
    "texts = input(\"Enter your text for sentiment analysis: \")\n",
    "print(classifier(texts))"
   ]
  },
  {
   "cell_type": "markdown",
   "id": "50e6129f",
   "metadata": {},
   "source": [
    "# Read and classify youtube comments using a pre-trained model"
   ]
  },
  {
   "cell_type": "code",
   "execution_count": 26,
   "id": "8bdc0b9d",
   "metadata": {},
   "outputs": [
    {
     "name": "stderr",
     "output_type": "stream",
     "text": [
      "Device set to use cpu\n"
     ]
    },
    {
     "data": {
      "image/png": "[encoded data removed]",
      "text/plain": [
       "<Figure size 800x600 with 1 Axes>"
      ]
     },
     "metadata": {},
     "output_type": "display_data"
    }
   ],
   "source": [
    "from transformers import pipeline\n",
    "# one-liner sentiment analysis on the SST-2-finetuned DistilBERT\n",
    "classifier = pipeline(\n",
    "    task=\"text-classification\",\n",
    "    model=\"distilbert-base-uncased-finetuned-sst-2-english\"\n",
    ")\n",
    "\n",
    "# read csv file of comments and run thr classifier\n",
    "import pandas as pd\n",
    "df = pd.read_csv(\"comments.csv\")\n",
    "texts = df[\"comments\"].tolist()\n",
    "results = classifier(texts)\n",
    "# add results to the dataframe\n",
    "df[\"sentiment\"] = [result['label'] for result in results]\n",
    "# save the dataframe to a new csv file\n",
    "df.to_csv(\"comments_with_sentiment.csv\", index=False)\n",
    "df.head()\n",
    "\n",
    "# create a pie chart\n",
    "import matplotlib.pyplot as plt\n",
    "# count the number of positive and negative comments\n",
    "sentiment_counts = df[\"sentiment\"].value_counts()\n",
    "# create a pie chart\n",
    "plt.figure(figsize=(8, 6))\n",
    "sentiment_counts.plot(kind='pie', autopct='%1.1f%%', startangle=90)\n",
    "plt.title(\"Sentiment Analysis of Comments\")\n",
    "plt.ylabel(\"\")  # Hide the y-label\n",
    "plt.show()\n"
   ]
  },
  {
   "cell_type": "code",
   "execution_count": 28,
   "id": "cee36f11",
   "metadata": {},
   "outputs": [
    {
     "data": {
      "application/vnd.jupyter.widget-view+json": {
       "model_id": "78a50b19ddd8444e89b86f0946fce643",
       "version_major": 2,
       "version_minor": 0
      },
      "text/plain": [
       "config.json:   0%|          | 0.00/713 [00:00<?, ?B/s]"
      ]
     },
     "metadata": {},
     "output_type": "display_data"
    },
    {
     "name": "stderr",
     "output_type": "stream",
     "text": [
      "c:\\Users\\aammar\\miniconda3\\envs\\hf_env\\lib\\site-packages\\huggingface_hub\\file_download.py:143: UserWarning: `huggingface_hub` cache-system uses symlinks by default to efficiently store duplicated files but your machine does not support them in C:\\Users\\aammar\\.cache\\huggingface\\hub\\models--moraix--SentimentBot. Caching files will still work but in a degraded version that might require more space on your disk. This warning can be disabled by setting the `HF_HUB_DISABLE_SYMLINKS_WARNING` environment variable. For more details, see https://huggingface.co/docs/huggingface_hub/how-to-cache#limitations.\n",
      "To support symlinks on Windows, you either need to activate Developer Mode or to run Python as an administrator. In order to activate developer mode, see this article: https://docs.microsoft.com/en-us/windows/apps/get-started/enable-your-device-for-development\n",
      "  warnings.warn(message)\n"
     ]
    },
    {
     "data": {
      "application/vnd.jupyter.widget-view+json": {
       "model_id": "d441f23be92e403b902e0e8e09b48228",
       "version_major": 2,
       "version_minor": 0
      },
      "text/plain": [
       "model.safetensors:   0%|          | 0.00/438M [00:00<?, ?B/s]"
      ]
     },
     "metadata": {},
     "output_type": "display_data"
    },
    {
     "data": {
      "application/vnd.jupyter.widget-view+json": {
       "model_id": "8cd6eaa24b094718a1dabdb45ab395d3",
       "version_major": 2,
       "version_minor": 0
      },
      "text/plain": [
       "tokenizer_config.json:   0%|          | 0.00/1.28k [00:00<?, ?B/s]"
      ]
     },
     "metadata": {},
     "output_type": "display_data"
    },
    {
     "data": {
      "application/vnd.jupyter.widget-view+json": {
       "model_id": "4b459bcf80744f9abd92aece468db1a0",
       "version_major": 2,
       "version_minor": 0
      },
      "text/plain": [
       "vocab.txt:   0%|          | 0.00/232k [00:00<?, ?B/s]"
      ]
     },
     "metadata": {},
     "output_type": "display_data"
    },
    {
     "data": {
      "application/vnd.jupyter.widget-view+json": {
       "model_id": "258566f9b9e84258b33e747e2900ba67",
       "version_major": 2,
       "version_minor": 0
      },
      "text/plain": [
       "tokenizer.json:   0%|          | 0.00/712k [00:00<?, ?B/s]"
      ]
     },
     "metadata": {},
     "output_type": "display_data"
    },
    {
     "data": {
      "application/vnd.jupyter.widget-view+json": {
       "model_id": "024c63c08f1a40a2953e9a86bd6a418d",
       "version_major": 2,
       "version_minor": 0
      },
      "text/plain": [
       "special_tokens_map.json:   0%|          | 0.00/132 [00:00<?, ?B/s]"
      ]
     },
     "metadata": {},
     "output_type": "display_data"
    },
    {
     "name": "stderr",
     "output_type": "stream",
     "text": [
      "Device set to use cpu\n"
     ]
    },
    {
     "data": {
      "image/png": "[encoded data removed]",
      "text/plain": [
       "<Figure size 800x600 with 1 Axes>"
      ]
     },
     "metadata": {},
     "output_type": "display_data"
    }
   ],
   "source": [
    "from transformers import pipeline\n",
    "# one-liner sentiment analysis on the SST-2-finetuned DistilBERT\n",
    "classifier = pipeline(\n",
    "    task=\"text-classification\",\n",
    "    model=\"moraix/SentimentBot\"\n",
    ")\n",
    "\n",
    "# read csv file of comments and run thr classifier\n",
    "import pandas as pd\n",
    "df = pd.read_csv(\"comments.csv\")\n",
    "texts = df[\"comments\"].tolist()\n",
    "results = classifier(texts)\n",
    "# add results to the dataframe\n",
    "df[\"sentiment\"] = [result['label'] for result in results]\n",
    "# save the dataframe to a new csv file\n",
    "df.to_csv(\"comments_with_sentiment.csv\", index=False)\n",
    "df.head()\n",
    "\n",
    "# create a pie chart\n",
    "import matplotlib.pyplot as plt\n",
    "# count the number of positive and negative comments\n",
    "sentiment_counts = df[\"sentiment\"].value_counts()\n",
    "# create a pie chart\n",
    "plt.figure(figsize=(8, 6))\n",
    "sentiment_counts.plot(kind='pie', autopct='%1.1f%%', startangle=90)\n",
    "plt.title(\"Sentiment Analysis of Comments\")\n",
    "plt.ylabel(\"\")  # Hide the y-label\n",
    "plt.show()"
   ]
  }
 ],
 "metadata": {
  "kernelspec": {
   "display_name": "hf_env",
   "language": "python",
   "name": "python3"
  },
  "language_info": {
   "codemirror_mode": {
    "name": "ipython",
    "version": 3
   },
   "file_extension": ".py",
   "mimetype": "text/x-python",
   "name": "python",
   "nbconvert_exporter": "python",
   "pygments_lexer": "ipython3",
   "version": "3.10.16"
  }
 },
 "nbformat": 4,
 "nbformat_minor": 5
}
